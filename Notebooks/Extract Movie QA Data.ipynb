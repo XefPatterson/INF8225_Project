{
 "cells": [
  {
   "cell_type": "code",
   "execution_count": 1,
   "metadata": {
    "collapsed": false
   },
   "outputs": [],
   "source": [
    "%load_ext autoreload\n",
    "%autoreload 2\n",
    "import numpy as np\n",
    "import os\n",
    "import sys\n",
    "import cPickle"
   ]
  },
  {
   "cell_type": "markdown",
   "metadata": {},
   "source": [
    "#### Define a char set:"
   ]
  },
  {
   "cell_type": "code",
   "execution_count": 2,
   "metadata": {
    "collapsed": false
   },
   "outputs": [],
   "source": [
    "chars = ['a','b','c','d','e','f','g','h','i','j','k','l','m','n','o','p','q','r','s','t','u','v','w','x','y','z',\n",
    "                 '0','1','2','3','4','5','6','7','8','9',\n",
    "                 ' ',',','.',':',';',\"'\",'!','?','$','%','&','(',')','=','+','-','<EOS>']\n",
    "\n",
    "chars_to_idx = {}\n",
    "index = 0\n",
    "for c in chars : \n",
    "    chars_to_idx[c] = index\n",
    "    index += 1\n",
    "    \n",
    "idx_to_chars = {}\n",
    "for k,i in chars_to_idx.items():\n",
    "    idx_to_chars[i] = k"
   ]
  },
  {
   "cell_type": "code",
   "execution_count": 5,
   "metadata": {
    "collapsed": false
   },
   "outputs": [],
   "source": [
    "def stringToOneHot(s, chars_to_idx, lower=True):\n",
    "    if lower:\n",
    "        s = s.lower()\n",
    "        \n",
    "    # Add an UNKNOWN char\n",
    "    # Add the <EOS> at the end\n",
    "    v_seq = np.zeros((len(s)+1, len(chars_to_idx.keys())+1), dtype=np.float16)\n",
    "    \n",
    "    for i in range(len(s)):\n",
    "        # Is s[i] a known character?\n",
    "        try:\n",
    "            v_seq[i,chars_to_idx[s[i]]] = 1.0\n",
    "        #If not, then unknown = 1\n",
    "        except KeyError:\n",
    "            v_seq[i, -1] = 1.0\n",
    "            \n",
    "    v_seq[-1, chars_to_idx['<EOS>']] = 1.0\n",
    "    return v_seq\n",
    "\n",
    "def oneHotToString(seq, idx_to_chars):\n",
    "    s = \"\"\n",
    "    for one_hot_vec in seq:\n",
    "        # Is the index in idx_to_char?\n",
    "        try:\n",
    "            #print np.argmax(one_hot_vec)\n",
    "            s += idx_to_chars[np.argmax(one_hot_vec)]\n",
    "        except KeyError:\n",
    "            s += '<UNK>'\n",
    "    return s\n",
    "\n",
    "def stringToCharIdx(s, chars_to_idx, lower=True):\n",
    "    if lower:\n",
    "        s = s.lower()\n",
    "        \n",
    "    # Add an UNKNOWN char\n",
    "    # Add the <EOS> at the end\n",
    "    v_seq = np.zeros(len(s)+1, dtype=np.float32)\n",
    "    \n",
    "    for i in range(len(s)):\n",
    "        # Is s[i] a known character?\n",
    "        try:\n",
    "            v_seq[i] = chars_to_idx[s[i]]\n",
    "        #If not, then unknown = 1\n",
    "        except KeyError:\n",
    "            v_seq[i] = chars_to_idx['<EOS>']+1.0\n",
    "            \n",
    "    v_seq[-1] = chars_to_idx['<EOS>']\n",
    "    return v_seq\n",
    "\n",
    "def idxSeqToString(seq, idx_to_chars):\n",
    "    s = \"\"\n",
    "    for idx in seq:\n",
    "        # Is the index in idx_to_char?\n",
    "        try:\n",
    "            #print np.argmax(one_hot_vec)\n",
    "            s += idx_to_chars[idx]\n",
    "        except KeyError:\n",
    "            s += '<UNK>'\n",
    "    return s"
   ]
  },
  {
   "cell_type": "markdown",
   "metadata": {},
   "source": [
    "#### Load the data:"
   ]
  },
  {
   "cell_type": "code",
   "execution_count": 4,
   "metadata": {
    "collapsed": false
   },
   "outputs": [
    {
     "name": "stdout",
     "output_type": "stream",
     "text": [
      "Number of conversations : 83097\n",
      "Number of lines : 304713\n"
     ]
    }
   ],
   "source": [
    "movieQA_folder = os.path.join('.','..','Data','MovieQA')\n",
    "\n",
    "# Load text files into nupmy arrays;\n",
    "movie_convs_txt = os.path.join(movieQA_folder, 'movie_conversations.txt')\n",
    "movie_lines_txt = os.path.join(movieQA_folder, 'movie_lines.txt')\n",
    "\n",
    "movie_convs_np = np.loadtxt(movie_convs_txt, dtype='string', delimiter=' +++$+++ ', comments=None)\n",
    "movie_lines_np = np.loadtxt(movie_lines_txt, dtype='string', delimiter=' +++$+++ ', comments=None)\n",
    "\n",
    "print \"Number of conversations : %d\" % len(movie_convs_np)\n",
    "print \"Number of lines : %d\" % len(movie_lines_np) "
   ]
  },
  {
   "cell_type": "markdown",
   "metadata": {},
   "source": [
    "#### Create dictionaries of movie lines for idx list formulation:"
   ]
  },
  {
   "cell_type": "code",
   "execution_count": 9,
   "metadata": {
    "collapsed": false
   },
   "outputs": [],
   "source": [
    "# lineID : movie character ID\n",
    "line_to_char_idx = {}\n",
    "\n",
    "for line in movie_lines_np:\n",
    "    line_to_char_idx[line[0]] = stringToCharIdx(line[-1], chars_to_idx, lower=True)"
   ]
  },
  {
   "cell_type": "code",
   "execution_count": 10,
   "metadata": {
    "collapsed": false
   },
   "outputs": [
    {
     "name": "stdout",
     "output_type": "stream",
     "text": [
      "304713\n",
      "unsolved mystery.  she used to be really popular when she started high school, then it was just like she got sick of it or something.<EOS>\n"
     ]
    }
   ],
   "source": [
    "#Sanity check\n",
    "print len(line_to_char_idx.keys())\n",
    "print idxSeqToString(line_to_char_idx['L205'], idx_to_chars)"
   ]
  },
  {
   "cell_type": "code",
   "execution_count": 12,
   "metadata": {
    "collapsed": false
   },
   "outputs": [
    {
     "name": "stdout",
     "output_type": "stream",
     "text": [
      "Got 221616 Q/A pairs.\n"
     ]
    }
   ],
   "source": [
    "# Create a list of Q/A pairs.\n",
    "#  For the simplest approach. We should be able to train a mediocre language (character-level) model with this.\n",
    "#  Eventually, this dataset could be more usful for a dialogue model, since most conversations have more than 2 interactions.\n",
    "\n",
    "qa_pairs_char = []\n",
    "for conversation in movie_convs_np:\n",
    "    subID = 0\n",
    "    lines = eval(conversation[-1])\n",
    "    while subID < (len(lines) - 1):\n",
    "        qa_pairs_char.append((line_to_char_idx[lines[subID]], line_to_char_idx[lines[subID+1]]))\n",
    "        subID += 1\n",
    "print \"Got %d Q/A pairs.\" % len(qa_pairs_char)"
   ]
  },
  {
   "cell_type": "code",
   "execution_count": 14,
   "metadata": {
    "collapsed": false
   },
   "outputs": [
    {
     "name": "stdout",
     "output_type": "stream",
     "text": [
      "why?<EOS>\n",
      "unsolved mystery.  she used to be really popular when she started high school, then it was just like she got sick of it or something.<EOS>\n"
     ]
    }
   ],
   "source": [
    "#Sanity check :\n",
    "idx = 7\n",
    "print idxSeqToString(qa_pairs_char[idx][0], idx_to_chars)\n",
    "print idxSeqToString(qa_pairs_char[idx][1], idx_to_chars)"
   ]
  },
  {
   "cell_type": "code",
   "execution_count": 15,
   "metadata": {
    "collapsed": true
   },
   "outputs": [],
   "source": [
    "qa_idx_pairs_pkl = os.path.join(movieQA_folder, 'QA_Pairs_Idx.pkl')\n",
    "with open(qa_idx_pairs_pkl, 'wb') as f:\n",
    "    cPickle.dump({\"qa_data\":qa_pairs_char}, f, protocol=cPickle.HIGHEST_PROTOCOL)"
   ]
  },
  {
   "cell_type": "code",
   "execution_count": 17,
   "metadata": {
    "collapsed": false
   },
   "outputs": [],
   "source": [
    "# Sanity check:\n",
    "with open(qa_idx_pairs_pkl, 'rb') as f:\n",
    "    data = cPickle.load(f)\n",
    "qa_idx_pairs_pkl = data[\"qa_data\"]"
   ]
  },
  {
   "cell_type": "code",
   "execution_count": 21,
   "metadata": {
    "collapsed": false
   },
   "outputs": [
    {
     "name": "stdout",
     "output_type": "stream",
     "text": [
      "that's it?  probably?  look, sharks are attracted by blood, and thrashing around....<EOS>\n",
      "and sound.<EOS>\n",
      "\n",
      "well, thanks again.  this was really nice of you.<EOS>\n",
      "it was the least we could do.  and i love to cook.<EOS>\n",
      "\n",
      "...among others.<EOS>\n",
      "i'd say that about torches her credibility, wouldn't you?<EOS>\n",
      "\n",
      "l.a.p.d.<EOS>\n",
      "shit.  you couldn't be in much worse shape.<EOS>\n",
      "\n",
      "we do, you know. we sound like us having a ball. it's fab.<EOS>\n",
      "is it really fab or are you just saying that to convince yourself?<EOS>\n",
      "\n"
     ]
    }
   ],
   "source": [
    "n_examples = 5\n",
    "\n",
    "for i in range(n_examples):\n",
    "    idx = np.random.randint(len(qa_idx_pairs_pkl))\n",
    "    print idxSeqToString(qa_idx_pairs_pkl[idx][0], idx_to_chars)\n",
    "    print idxSeqToString(qa_idx_pairs_pkl[idx][1], idx_to_chars)\n",
    "    print"
   ]
  },
  {
   "cell_type": "markdown",
   "metadata": {},
   "source": [
    "#### Create dictionaries of movie lines for one-hot formulation:"
   ]
  },
  {
   "cell_type": "code",
   "execution_count": 20,
   "metadata": {
    "collapsed": false
   },
   "outputs": [],
   "source": [
    "# lineID : one_hot_sequence\n",
    "line_to_one_hot = {}\n",
    "\n",
    "# lineID : movie character ID\n",
    "line_to_movie_car = {}\n",
    "\n",
    "for line in movie_lines_np:\n",
    "    line_to_one_hot[line[0]] = stringToOneHot(line[-1], chars_to_idx, lower=True)\n",
    "    line_to_movie_car[line[0]] = line[1]\n",
    "    \n",
    "line_to_char_idx = {}"
   ]
  },
  {
   "cell_type": "code",
   "execution_count": 21,
   "metadata": {
    "collapsed": false
   },
   "outputs": [
    {
     "name": "stdout",
     "output_type": "stream",
     "text": [
      "304713\n",
      "unsolved mystery.  she used to be really popular when she started high school, then it was just like she got sick of it or something.<EOS>\n"
     ]
    }
   ],
   "source": [
    "#Sanity check\n",
    "print len(line_to_one_hot.keys())\n",
    "print oneHotToString(line_to_one_hot['L205'], idx_to_chars)"
   ]
  },
  {
   "cell_type": "markdown",
   "metadata": {},
   "source": [
    "#### Create a list of Q/A pairs - AKA the dataset:"
   ]
  },
  {
   "cell_type": "code",
   "execution_count": 22,
   "metadata": {
    "collapsed": false
   },
   "outputs": [
    {
     "name": "stdout",
     "output_type": "stream",
     "text": [
      "Got 221616 Q/A pairs.\n"
     ]
    }
   ],
   "source": [
    "# Create a list of Q/A pairs.\n",
    "#  For the simplest approach. We should be able to train a mediocre language (character-level) model with this.\n",
    "#  Eventually, this dataset could be more usful for a dialogue model, since most conversations have more than 2 interactions.\n",
    "\n",
    "qa_pairs = []\n",
    "for conversation in movie_convs_np:\n",
    "    subID = 0\n",
    "    lines = eval(conversation[-1])\n",
    "    while subID < (len(lines) - 1):\n",
    "        qa_pairs.append((line_to_one_hot[lines[subID]], line_to_one_hot[lines[subID+1]]))\n",
    "        subID += 1\n",
    "print \"Got %d Q/A pairs.\" % len(qa_pairs)"
   ]
  },
  {
   "cell_type": "code",
   "execution_count": 23,
   "metadata": {
    "collapsed": false
   },
   "outputs": [
    {
     "name": "stdout",
     "output_type": "stream",
     "text": [
      "why?<EOS>\n",
      "unsolved mystery.  she used to be really popular when she started high school, then it was just like she got sick of it or something.<EOS>\n"
     ]
    }
   ],
   "source": [
    "#Sanity check :\n",
    "idx = 7\n",
    "print oneHotToString(qa_pairs[idx][0], idx_to_chars)\n",
    "print oneHotToString(qa_pairs[idx][1], idx_to_chars)"
   ]
  },
  {
   "cell_type": "markdown",
   "metadata": {},
   "source": [
    "#### Save the dataset :"
   ]
  },
  {
   "cell_type": "code",
   "execution_count": 24,
   "metadata": {
    "collapsed": false
   },
   "outputs": [],
   "source": [
    "qa_pairs_pkl = os.path.join(movieQA_folder, 'QA_Pairs.pkl')\n",
    "with open(qa_pairs_pkl, 'wb') as f:\n",
    "    cPickle.dump({\"qa_data\":qa_pairs}, f, protocol=cPickle.HIGHEST_PROTOCOL)"
   ]
  },
  {
   "cell_type": "markdown",
   "metadata": {},
   "source": [
    "#### Load the pkl dataset:"
   ]
  },
  {
   "cell_type": "code",
   "execution_count": 25,
   "metadata": {
    "collapsed": false
   },
   "outputs": [],
   "source": [
    "# Sanity check:\n",
    "with open(qa_pairs_pkl, 'rb') as f:\n",
    "    data = cPickle.load(f)\n",
    "qa_pairs = data[\"qa_data\"]"
   ]
  },
  {
   "cell_type": "code",
   "execution_count": 26,
   "metadata": {
    "collapsed": false
   },
   "outputs": [
    {
     "name": "stdout",
     "output_type": "stream",
     "text": [
      "nancy, don't fall asleep in there.<EOS>\n",
      "i won't.<EOS>\n",
      "\n",
      "i don't think we're being treated fairly, lois. and i'm going to tell miss warfield.<EOS>\n",
      "clark . . . wait!<EOS>\n",
      "\n",
      "you and my father have become very close.  perhaps one day i may say the same for us.<EOS>\n",
      "you flatter me, caesar.<EOS>\n",
      "\n",
      "so, what, this zimm guy asking for some kinda finders fee, that what we're talking about here?<EOS>\n",
      "hey, zimm doesn't ask for dick. zimm tells you the way it is... or else.<EOS>\n",
      "\n",
      "do you think you could ever think of a set of circumstances that would just cause you to haul off and shoot someone?<EOS>\n",
      "i could shoot your cousin eddie.<EOS>\n",
      "\n"
     ]
    }
   ],
   "source": [
    "n_examples = 5\n",
    "\n",
    "for i in range(n_examples):\n",
    "    idx = np.random.randint(len(qa_pairs))\n",
    "    print oneHotToString(qa_pairs[idx][0], idx_to_chars)\n",
    "    print oneHotToString(qa_pairs[idx][1], idx_to_chars)\n",
    "    print\n"
   ]
  },
  {
   "cell_type": "code",
   "execution_count": null,
   "metadata": {
    "collapsed": true
   },
   "outputs": [],
   "source": []
  }
 ],
 "metadata": {
  "anaconda-cloud": {},
  "kernelspec": {
   "display_name": "Python [Root]",
   "language": "python",
   "name": "Python [Root]"
  },
  "language_info": {
   "codemirror_mode": {
    "name": "ipython",
    "version": 2
   },
   "file_extension": ".py",
   "mimetype": "text/x-python",
   "name": "python",
   "nbconvert_exporter": "python",
   "pygments_lexer": "ipython2",
   "version": "2.7.12"
  }
 },
 "nbformat": 4,
 "nbformat_minor": 0
}
